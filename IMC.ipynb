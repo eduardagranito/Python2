{
  "nbformat": 4,
  "nbformat_minor": 0,
  "metadata": {
    "colab": {
      "provenance": [],
      "authorship_tag": "ABX9TyMyWBF98ARoekoWVdFBOAIg",
      "include_colab_link": true
    },
    "kernelspec": {
      "name": "python3",
      "display_name": "Python 3"
    },
    "language_info": {
      "name": "python"
    }
  },
  "cells": [
    {
      "cell_type": "markdown",
      "metadata": {
        "id": "view-in-github",
        "colab_type": "text"
      },
      "source": [
        "<a href=\"https://colab.research.google.com/github/eduardagranito/Python2/blob/main/IMC.ipynb\" target=\"_parent\"><img src=\"https://colab.research.google.com/assets/colab-badge.svg\" alt=\"Open In Colab\"/></a>"
      ]
    },
    {
      "cell_type": "code",
      "execution_count": 13,
      "metadata": {
        "colab": {
          "base_uri": "https://localhost:8080/"
        },
        "id": "IttPqzeVts66",
        "outputId": "e26bf937-2608-432e-e569-72f308945bea"
      },
      "outputs": [
        {
          "output_type": "stream",
          "name": "stdout",
          "text": [
            "=== VAMOS CUIDAR DA SAUDE ===\n",
            "Digite seu nome: Eduarda\n",
            "Digite sua idade: 20\n",
            "Digite sua altura em (metros):1.76\n",
            "Digite seu peso em (KG):72.64\n",
            "Eduarda ,Seu IMC é:  23.450413223140497\n",
            "18,5 - 24,9 -> Peso normal\n"
          ]
        }
      ],
      "source": [
        "print(\"=== VAMOS CUIDAR DA SAUDE ===\")\n",
        "\n",
        "nome = (input(\"Digite seu nome: \"))\n",
        "idade = int(input(\"Digite sua idade: \"))\n",
        "altura = float(input(\"Digite sua altura em (metros):\"))\n",
        "peso = float(input(\"Digite seu peso em (KG):\"))\n",
        "\n",
        "imc = peso / (altura * altura)\n",
        "print(nome,\",Seu IMC é: \", imc)\n",
        "\n",
        "if imc <= 18.5:\n",
        "    print(\"Abaixo de 18,5 -> Abaixo do peso\")\n",
        "elif 18.6 <= imc <= 24.9:\n",
        "    print(\"18,5 - 24,9 -> Peso normal\")\n",
        "elif 25.0 <= imc <= 29.9:\n",
        "    print(\"25,0 - 29,9 -> Sobrepeso\")\n",
        "elif 30.0 <= imc <= 34.9:\n",
        "    print(\"30,0 - 34,9 -> Obesidade Grau I\")\n",
        "elif 35.0 <= imc <= 39.9:\n",
        "    print(\"35,0 - 39,9 -> Obesidade Grau II\")\n",
        "elif imc >= 40:\n",
        "    print(\"40 ou mais -> Obesidade Grau III (mórbida)\")\n",
        "else:\n",
        "    print(\"Erro!!\")\n",
        "\n"
      ]
    }
  ]
}