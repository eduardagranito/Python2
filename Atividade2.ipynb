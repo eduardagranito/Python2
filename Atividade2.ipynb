{
  "nbformat": 4,
  "nbformat_minor": 0,
  "metadata": {
    "colab": {
      "provenance": [],
      "authorship_tag": "ABX9TyO7OrmNEpz6gavt7iJB37jh",
      "include_colab_link": true
    },
    "kernelspec": {
      "name": "python3",
      "display_name": "Python 3"
    },
    "language_info": {
      "name": "python"
    }
  },
  "cells": [
    {
      "cell_type": "markdown",
      "metadata": {
        "id": "view-in-github",
        "colab_type": "text"
      },
      "source": [
        "<a href=\"https://colab.research.google.com/github/eduardagranito/Python2/blob/main/Atividade2.ipynb\" target=\"_parent\"><img src=\"https://colab.research.google.com/assets/colab-badge.svg\" alt=\"Open In Colab\"/></a>"
      ]
    },
    {
      "cell_type": "code",
      "execution_count": 17,
      "metadata": {
        "colab": {
          "base_uri": "https://localhost:8080/"
        },
        "id": "1i19kIFxeywl",
        "outputId": "069f6953-b279-42ad-e031-90b356f9fbee"
      },
      "outputs": [
        {
          "output_type": "stream",
          "name": "stdout",
          "text": [
            "=== Calculadora ===\n",
            "Digite o valor de a: 1\n",
            "Digite o valor de b: 2\n",
            "Digite o valor de c: 1\n",
            "Delta: 0.0\n",
            "Raiz única: -1.0\n"
          ]
        }
      ],
      "source": [
        "#Calculadora de Equação de 2° Grau\n",
        "\n",
        "print(\"=== Calculadora ===\")\n",
        "import math\n",
        "a = float(input(\"Digite o valor de a: \"))\n",
        "b = float(input(\"Digite o valor de b: \"))\n",
        "c = float(input(\"Digite o valor de c: \"))\n",
        "\n",
        "if a == 0:\n",
        "    print(\"O valor de 'a' não pode ser zero para uma equação de 2° grau.\")\n",
        "else:\n",
        "    delta = b**2 - 4*a*c\n",
        "\n",
        "    print(\"Delta:\", delta)\n",
        "\n",
        "    if delta < 0:\n",
        "        print(\"Não há raízes reais.\")\n",
        "    elif abs(delta) < 1e-9:\n",
        "        x = -b / (2*a)\n",
        "        print(\"Raiz única:\", x)\n",
        "    else:\n",
        "        x1 = (-b + math.sqrt(delta)) / (2*a)\n",
        "        x2 = (-b - math.sqrt(delta)) / (2*a)\n",
        "        print(\"Duas raízes reais:\")\n",
        "        print(\"x1 =\", x1)\n",
        "        print(\"x2 =\", x2)"
      ]
    }
  ]
}