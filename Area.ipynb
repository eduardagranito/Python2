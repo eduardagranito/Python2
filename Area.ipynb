{
  "nbformat": 4,
  "nbformat_minor": 0,
  "metadata": {
    "colab": {
      "provenance": [],
      "authorship_tag": "ABX9TyOGGJLaagfjVa3wa/FvyyoM",
      "include_colab_link": true
    },
    "kernelspec": {
      "name": "python3",
      "display_name": "Python 3"
    },
    "language_info": {
      "name": "python"
    }
  },
  "cells": [
    {
      "cell_type": "markdown",
      "metadata": {
        "id": "view-in-github",
        "colab_type": "text"
      },
      "source": [
        "<a href=\"https://colab.research.google.com/github/eduardagranito/Python2/blob/main/Area.ipynb\" target=\"_parent\"><img src=\"https://colab.research.google.com/assets/colab-badge.svg\" alt=\"Open In Colab\"/></a>"
      ]
    },
    {
      "cell_type": "code",
      "execution_count": 1,
      "metadata": {
        "colab": {
          "base_uri": "https://localhost:8080/"
        },
        "id": "7Aam-Q30BsuL",
        "outputId": "ea9b50b5-2aee-4d15-ae16-95244335f44a"
      },
      "outputs": [
        {
          "output_type": "stream",
          "name": "stdout",
          "text": [
            "Digite o raio do circulo: 5\n",
            "Digite o lado do quadrado:3\n",
            "Digite a base do triangulo: 2\n",
            "Digite a altura do triangulo: 3\n",
            "A area do circulo é: 78.53981633974483\n",
            "A area do quadrado é: 9.0\n",
            "A area do triangulo é: 3.0\n"
          ]
        }
      ],
      "source": [
        "#Area dos formatos\n",
        "\n",
        "raio = input(\"Digite o raio do circulo: \")\n",
        "lado =input(\"Digite o lado do quadrado:\")\n",
        "triangulo_b = input(\"Digite a base do triangulo: \")\n",
        "triangulo_a = input(\"Digite a altura do triangulo: \")\n",
        "\n",
        "#Raio\n",
        "import math\n",
        "valor_de_pi = math.pi\n",
        "raio = float(raio)\n",
        "area_c = (math.pi*(raio*raio))\n",
        "print(\"A area do circulo é:\", area_c)\n",
        "\n",
        "#Lado\n",
        "\n",
        "lado = float(lado)\n",
        "area_q = (lado*lado)\n",
        "print(\"A area do quadrado é:\", area_q)\n",
        "\n",
        "#Triangulo\n",
        "\n",
        "triangulo_b = float(triangulo_b)\n",
        "triangulo_a = float(triangulo_a)\n",
        "area_t = ((triangulo_b*triangulo_a)/2)\n",
        "print(\"A area do triangulo é:\", area_t)\n",
        "\n",
        "\n",
        "\n"
      ]
    }
  ]
}